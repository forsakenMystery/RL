{
 "cells": [
  {
   "cell_type": "code",
   "execution_count": 1,
   "metadata": {},
   "outputs": [],
   "source": [
    "import gym\n",
    "import numpy as np\n",
    "import matplotlib.pyplot as plt\n",
    "from gym import wrappers"
   ]
  },
  {
   "cell_type": "code",
   "execution_count": 2,
   "metadata": {},
   "outputs": [],
   "source": [
    "env = gym.make('CartPole-v0')"
   ]
  },
  {
   "cell_type": "code",
   "execution_count": 3,
   "metadata": {},
   "outputs": [
    {
     "data": {
      "text/plain": [
       "array([ 0.03836338, -0.00198904,  0.00343957, -0.01509082])"
      ]
     },
     "execution_count": 3,
     "metadata": {},
     "output_type": "execute_result"
    }
   ],
   "source": [
    "env.reset()"
   ]
  },
  {
   "cell_type": "code",
   "execution_count": 4,
   "metadata": {},
   "outputs": [
    {
     "data": {
      "text/plain": [
       "Discrete(2)"
      ]
     },
     "execution_count": 4,
     "metadata": {},
     "output_type": "execute_result"
    }
   ],
   "source": [
    "env.action_space"
   ]
  },
  {
   "cell_type": "code",
   "execution_count": 5,
   "metadata": {},
   "outputs": [
    {
     "data": {
      "text/plain": [
       "Box(4,)"
      ]
     },
     "execution_count": 5,
     "metadata": {},
     "output_type": "execute_result"
    }
   ],
   "source": [
    "env.observation_space"
   ]
  },
  {
   "cell_type": "code",
   "execution_count": 6,
   "metadata": {},
   "outputs": [
    {
     "data": {
      "text/plain": [
       "2"
      ]
     },
     "execution_count": 6,
     "metadata": {},
     "output_type": "execute_result"
    }
   ],
   "source": [
    "env.action_space.n"
   ]
  },
  {
   "cell_type": "code",
   "execution_count": 7,
   "metadata": {},
   "outputs": [],
   "source": [
    "action = 1\n",
    "observation, reward, done, info = env.step(action)"
   ]
  },
  {
   "cell_type": "markdown",
   "metadata": {},
   "source": [
    "# random action and saving"
   ]
  },
  {
   "cell_type": "code",
   "execution_count": 8,
   "metadata": {},
   "outputs": [
    {
     "name": "stdout",
     "output_type": "stream",
     "text": [
      "[20]\n"
     ]
    },
    {
     "data": {
      "text/plain": [
       "20.0"
      ]
     },
     "execution_count": 8,
     "metadata": {},
     "output_type": "execute_result"
    }
   ],
   "source": [
    "stepping = []\n",
    "env = gym.make('CartPole-v0')\n",
    "# env = wrappers.Monitor(env, 'E:\\Code\\Python\\Project')\n",
    "env.reset()\n",
    "episodes = 1\n",
    "for _ in range(episodes):\n",
    "    env.reset()\n",
    "    done = False\n",
    "    steps = 0\n",
    "    while not done:\n",
    "        steps += 1\n",
    "        observation, reward, done, _ = env.step(env.action_space.sample())\n",
    "    stepping.append(steps)\n",
    "stepping = np.array(stepping)\n",
    "print(stepping)\n",
    "stepping.mean()"
   ]
  },
  {
   "cell_type": "markdown",
   "metadata": {},
   "source": [
    "# random Search on action space"
   ]
  },
  {
   "cell_type": "code",
   "execution_count": 9,
   "metadata": {},
   "outputs": [],
   "source": [
    "np.random.randn(4).dot(observation)\n",
    "env = gym.make('CartPole-v0')"
   ]
  },
  {
   "cell_type": "code",
   "execution_count": 10,
   "metadata": {},
   "outputs": [
    {
     "name": "stdout",
     "output_type": "stream",
     "text": [
      "11.0\n",
      "[0.45204818 0.6469446  0.66873066 0.59405465]\n"
     ]
    },
    {
     "data": {
      "text/plain": [
       "[<matplotlib.lines.Line2D at 0x20dc7beb780>]"
      ]
     },
     "execution_count": 10,
     "metadata": {},
     "output_type": "execute_result"
    },
    {
     "data": {
      "image/png": "[encoded data removed]",
      "text/plain": [
       "<Figure size 432x288 with 1 Axes>"
      ]
     },
     "metadata": {},
     "output_type": "display_data"
    }
   ],
   "source": [
    "random_search = 100\n",
    "averages = []\n",
    "episodes = 10\n",
    "best = 0\n",
    "best_weight = None\n",
    "for _ in range(random_search):\n",
    "    average = 0\n",
    "    weight = np.random.random(4)*2-1\n",
    "#     weight = np.random.randn(4)\n",
    "    for _ in range(episodes):\n",
    "        observation = env.reset()\n",
    "        done = False\n",
    "        steps = 0\n",
    "        # az ye ja start nist averaging make sense :)\n",
    "        while not done and steps < 10000:\n",
    "            steps +=1\n",
    "            observation, reward, done, _ = env.step(0 if np.dot(weight, observation)>0 else 0)\n",
    "        average += steps\n",
    "    average /= episodes\n",
    "    averages.append(average)\n",
    "    if best < average:\n",
    "        # change weights\n",
    "        best = average\n",
    "        best_weight = weight\n",
    "print(best)\n",
    "print(best_weight)\n",
    "plt.plot(averages)"
   ]
  },
  {
   "cell_type": "markdown",
   "metadata": {},
   "source": [
    "# Q learning Binning"
   ]
  },
  {
   "cell_type": "code",
   "execution_count": 11,
   "metadata": {},
   "outputs": [],
   "source": [
    "bin_size_cart_position = 4\n",
    "bin_size_cart_velocity = 4\n",
    "bin_size_pole_angle = 4\n",
    "bin_size_pole_velocity = 4\n",
    "epsilon = 0.98\n",
    "Q = np.ones((bin_size_cart_position, bin_size_cart_velocity, bin_size_pole_angle, bin_size_pole_velocity, env.action_space.n))"
   ]
  },
  {
   "cell_type": "code",
   "execution_count": 12,
   "metadata": {},
   "outputs": [
    {
     "data": {
      "text/plain": [
       "array([-0.16025211, -1.78042491,  0.21412067,  2.80862011])"
      ]
     },
     "execution_count": 12,
     "metadata": {},
     "output_type": "execute_result"
    }
   ],
   "source": [
    "observation"
   ]
  },
  {
   "cell_type": "code",
   "execution_count": 13,
   "metadata": {},
   "outputs": [],
   "source": [
    "def create_bins(lower_bound, width, quantity):\n",
    "    bins = []\n",
    "    for low in np.arange(lower_bound, \n",
    "                     lower_bound + quantity*width + 1, width):\n",
    "        bins.append((low, low+width))\n",
    "    return bins"
   ]
  },
  {
   "cell_type": "code",
   "execution_count": 25,
   "metadata": {},
   "outputs": [
    {
     "data": {
      "text/plain": [
       "[(-2.4, -1.2),\n",
       " (-1.2, 0.0),\n",
       " (0.0, 1.2),\n",
       " (1.1999999999999997, 2.3999999999999995)]"
      ]
     },
     "execution_count": 25,
     "metadata": {},
     "output_type": "execute_result"
    }
   ],
   "source": [
    "bin_cart_position = create_bins(lower_bound=-2.4,\n",
    "                   width=4.8/bin_size_cart_position,\n",
    "                   quantity=bin_size_cart_position-1)\n",
    "\n",
    "bin_cart_position"
   ]
  },
  {
   "cell_type": "code",
   "execution_count": 26,
   "metadata": {},
   "outputs": [
    {
     "data": {
      "text/plain": [
       "[(-10.0, -5.0), (-5.0, 0.0), (0.0, 5.0), (5.0, 10.0)]"
      ]
     },
     "execution_count": 26,
     "metadata": {},
     "output_type": "execute_result"
    }
   ],
   "source": [
    "bin_cart_velocity = create_bins(lower_bound=-10,\n",
    "                   width=20/bin_size_cart_velocity,\n",
    "                   quantity=bin_size_cart_velocity-1)\n",
    "\n",
    "bin_cart_velocity"
   ]
  },
  {
   "cell_type": "code",
   "execution_count": 27,
   "metadata": {},
   "outputs": [
    {
     "data": {
      "text/plain": [
       "[(-41.8, -20.9), (-20.9, 0.0), (0.0, 20.9), (20.9, 41.8)]"
      ]
     },
     "execution_count": 27,
     "metadata": {},
     "output_type": "execute_result"
    }
   ],
   "source": [
    "bin_pole_angle = create_bins(lower_bound=-41.8,\n",
    "                   width=83.6/bin_size_pole_angle,\n",
    "                   quantity=bin_size_pole_angle-1)\n",
    "\n",
    "bin_pole_angle"
   ]
  },
  {
   "cell_type": "code",
   "execution_count": 28,
   "metadata": {},
   "outputs": [],
   "source": [
    "def find_bin(value, bins):\n",
    "    for i in range(0, len(bins)):\n",
    "        if bins[i][0] <= value < bins[i][1]:\n",
    "            return i\n",
    "    if bins[0][0]>value:\n",
    "        return 0\n",
    "    return len(bins)-1"
   ]
  },
  {
   "cell_type": "code",
   "execution_count": 29,
   "metadata": {},
   "outputs": [
    {
     "data": {
      "text/plain": [
       "[(-10.0, -5.0), (-5.0, 0.0), (0.0, 5.0), (5.0, 10.0)]"
      ]
     },
     "execution_count": 29,
     "metadata": {},
     "output_type": "execute_result"
    }
   ],
   "source": [
    "bin_pole_velocity = create_bins(lower_bound=-10,\n",
    "                   width=20/bin_size_pole_velocity,\n",
    "                   quantity=bin_size_pole_velocity-1)\n",
    "\n",
    "bin_pole_velocity"
   ]
  },
  {
   "cell_type": "code",
   "execution_count": 30,
   "metadata": {},
   "outputs": [],
   "source": [
    "binn = [bin_cart_position, bin_cart_velocity, bin_pole_angle, bin_pole_velocity]"
   ]
  },
  {
   "cell_type": "code",
   "execution_count": 35,
   "metadata": {},
   "outputs": [],
   "source": [
    "def q_learning(env, episodes=5000, max_move=2000, random=0.99, discount=0.999, gamma=0.99, epsilon = 1, lamda = 1):\n",
    "    Q = np.ones((bin_size_cart_position, bin_size_cart_velocity, bin_size_pole_angle, bin_size_pole_velocity, env.action_space.n))\n",
    "    flag = False\n",
    "    alling = []\n",
    "    for i in range(episodes):\n",
    "        observation = env.reset()\n",
    "        done = False\n",
    "        steps = 0\n",
    "        rewards = 0\n",
    "#         print('========================================')\n",
    "        while not done and steps<max_move:\n",
    "            steps += 1\n",
    "            greedy = np.random.random(1)[0]>epsilon\n",
    "            if greedy:\n",
    "                action = env.action_space.sample()\n",
    "            else:\n",
    "                action = np.argmax(Q[find_bin(observation[0], binn[0]), find_bin(observation[1], binn[1]), find_bin(observation[2], binn[2]), find_bin(observation[3], binn[3])])\n",
    "            observation_new, reward, done, _ = env.step(action)\n",
    "            reward = 0\n",
    "            if done:\n",
    "                reward = -300 \n",
    "            rewards += reward\n",
    "# #             print(observation[0], binn[0])\n",
    "#             print(observation[1], binn[1])\n",
    "#             print(observation[2], binn[2])\n",
    "#             print(observation[3], binn[3])\n",
    "#             print(find_bin(observation[0], binn[0]), find_bin(observation[1], binn[1]), find_bin(observation[2], binn[2]), find_bin(observation[3], binn[3]), action)\n",
    "            Q[find_bin(observation[0], binn[0]), find_bin(observation[1], binn[1]), find_bin(observation[2], binn[2]), find_bin(observation[3], binn[3]), action] = lamda * (reward + gamma * np.max(Q[find_bin(observation_new[0], binn[0]), find_bin(observation_new[1], binn[1]), find_bin(observation_new[2], binn[2]), find_bin(observation_new[3], binn[3]), action])) + (1 - lamda) * Q[find_bin(observation[0], binn[0]), find_bin(observation[1], binn[1]), find_bin(observation[2], binn[2]), find_bin(observation[3], binn[3]), action]\n",
    "#             print(Q[find_bin(observation[0], binn[0]), find_bin(observation[1], binn[1]), find_bin(observation[2], binn[2]), find_bin(observation[3], binn[3])])\n",
    "            observation = observation_new\n",
    "#             env.render(mode=\"rgb_array\")\n",
    "#             input()\n",
    "        lamda *= discount\n",
    "        alling.append(rewards)\n",
    "        if i % 16 == 0:\n",
    "            epsilon *= random\n",
    "            if (i % 256 == 0 and epsilon < 0.25) or flag:\n",
    "                flag = True\n",
    "                epsilon = 0.25\n",
    "    plt.plot(alling)\n",
    "    return Q"
   ]
  },
  {
   "cell_type": "code",
   "execution_count": 36,
   "metadata": {},
   "outputs": [
    {
     "name": "stdout",
     "output_type": "stream",
     "text": [
      "2304\n",
      "2320\n",
      "2336\n",
      "2352\n",
      "2368\n",
      "2384\n",
      "2400\n",
      "2416\n",
      "2432\n",
      "2448\n",
      "2464\n",
      "2480\n",
      "2496\n",
      "2512\n",
      "2528\n",
      "2544\n",
      "2560\n",
      "2576\n",
      "2592\n",
      "2608\n",
      "2624\n",
      "2640\n",
      "2656\n",
      "2672\n",
      "2688\n",
      "2704\n",
      "2720\n",
      "2736\n",
      "2752\n",
      "2768\n",
      "2784\n",
      "2800\n",
      "2816\n",
      "2832\n",
      "2848\n",
      "2864\n",
      "2880\n",
      "2896\n",
      "2912\n",
      "2928\n",
      "2944\n",
      "2960\n",
      "2976\n",
      "2992\n",
      "3008\n",
      "3024\n",
      "3040\n",
      "3056\n",
      "3072\n",
      "3088\n",
      "3104\n",
      "3120\n",
      "3136\n",
      "3152\n",
      "3168\n",
      "3184\n",
      "3200\n",
      "3216\n",
      "3232\n",
      "3248\n",
      "3264\n",
      "3280\n",
      "3296\n",
      "3312\n",
      "3328\n",
      "3344\n",
      "3360\n",
      "3376\n",
      "3392\n",
      "3408\n",
      "3424\n",
      "3440\n",
      "3456\n",
      "3472\n",
      "3488\n",
      "3504\n",
      "3520\n",
      "3536\n",
      "3552\n",
      "3568\n",
      "3584\n",
      "3600\n",
      "3616\n",
      "3632\n",
      "3648\n",
      "3664\n",
      "3680\n",
      "3696\n",
      "3712\n",
      "3728\n",
      "3744\n",
      "3760\n",
      "3776\n",
      "3792\n",
      "3808\n",
      "3824\n",
      "3840\n",
      "3856\n",
      "3872\n",
      "3888\n",
      "3904\n",
      "3920\n",
      "3936\n",
      "3952\n",
      "3968\n",
      "3984\n",
      "4000\n",
      "4016\n",
      "4032\n",
      "4048\n",
      "4064\n",
      "4080\n",
      "4096\n",
      "4112\n",
      "4128\n",
      "4144\n",
      "4160\n",
      "4176\n",
      "4192\n",
      "4208\n",
      "4224\n",
      "4240\n",
      "4256\n",
      "4272\n",
      "4288\n",
      "4304\n",
      "4320\n",
      "4336\n",
      "4352\n",
      "4368\n",
      "4384\n",
      "4400\n",
      "4416\n",
      "4432\n",
      "4448\n",
      "4464\n",
      "4480\n",
      "4496\n",
      "4512\n",
      "4528\n",
      "4544\n",
      "4560\n",
      "4576\n",
      "4592\n",
      "4608\n",
      "4624\n",
      "4640\n",
      "4656\n",
      "4672\n",
      "4688\n",
      "4704\n",
      "4720\n",
      "4736\n",
      "4752\n",
      "4768\n",
      "4784\n",
      "4800\n",
      "4816\n",
      "4832\n",
      "4848\n",
      "4864\n",
      "4880\n",
      "4896\n",
      "4912\n",
      "4928\n",
      "4944\n",
      "4960\n",
      "4976\n",
      "4992\n"
     ]
    },
    {
     "data": {
      "image/png": "[encoded data removed]",
      "text/plain": [
       "<Figure size 432x288 with 1 Axes>"
      ]
     },
     "metadata": {},
     "output_type": "display_data"
    }
   ],
   "source": [
    "Q = q_learning(env)"
   ]
  },
  {
   "cell_type": "code",
   "execution_count": 38,
   "metadata": {},
   "outputs": [
    {
     "data": {
      "text/plain": [
       "array([[[[[ 1.00000000e+00,  1.00000000e+00],\n",
       "          [ 1.00000000e+00,  1.00000000e+00],\n",
       "          [ 1.00000000e+00,  1.00000000e+00],\n",
       "          [ 1.00000000e+00,  1.00000000e+00]],\n",
       "\n",
       "         [[ 1.00000000e+00,  1.00000000e+00],\n",
       "          [ 1.00000000e+00,  1.00000000e+00],\n",
       "          [ 1.00000000e+00,  1.00000000e+00],\n",
       "          [ 1.00000000e+00,  1.00000000e+00]],\n",
       "\n",
       "         [[ 1.00000000e+00,  1.00000000e+00],\n",
       "          [ 1.00000000e+00,  1.00000000e+00],\n",
       "          [ 1.00000000e+00,  1.00000000e+00],\n",
       "          [ 1.00000000e+00,  1.00000000e+00]],\n",
       "\n",
       "         [[ 1.00000000e+00,  1.00000000e+00],\n",
       "          [ 1.00000000e+00,  1.00000000e+00],\n",
       "          [ 1.00000000e+00,  1.00000000e+00],\n",
       "          [ 1.00000000e+00,  1.00000000e+00]]],\n",
       "\n",
       "\n",
       "        [[[ 1.00000000e+00,  1.00000000e+00],\n",
       "          [ 1.00000000e+00,  1.00000000e+00],\n",
       "          [ 1.00000000e+00,  1.00000000e+00],\n",
       "          [ 1.00000000e+00,  1.00000000e+00]],\n",
       "\n",
       "         [[ 1.00000000e+00,  1.00000000e+00],\n",
       "          [-1.40480253e+02, -2.47643197e+02],\n",
       "          [-1.60586003e+02, -2.34405549e+02],\n",
       "          [ 1.00000000e+00,  1.00000000e+00]],\n",
       "\n",
       "         [[ 1.00000000e+00,  1.00000000e+00],\n",
       "          [-5.74306110e+00,  1.00000000e+00],\n",
       "          [-3.74174787e+02, -4.63689842e+02],\n",
       "          [ 1.00000000e+00,  1.00000000e+00]],\n",
       "\n",
       "         [[ 1.00000000e+00,  1.00000000e+00],\n",
       "          [ 1.00000000e+00,  1.00000000e+00],\n",
       "          [ 1.00000000e+00,  1.00000000e+00],\n",
       "          [ 1.00000000e+00,  1.00000000e+00]]],\n",
       "\n",
       "\n",
       "        [[[ 1.00000000e+00,  1.00000000e+00],\n",
       "          [ 1.00000000e+00,  1.00000000e+00],\n",
       "          [ 1.00000000e+00,  1.00000000e+00],\n",
       "          [ 1.00000000e+00,  1.00000000e+00]],\n",
       "\n",
       "         [[ 1.00000000e+00,  1.00000000e+00],\n",
       "          [ 1.00000000e+00,  1.00000000e+00],\n",
       "          [ 1.00000000e+00,  1.00000000e+00],\n",
       "          [ 1.00000000e+00,  1.00000000e+00]],\n",
       "\n",
       "         [[ 1.00000000e+00,  1.00000000e+00],\n",
       "          [ 1.00000000e+00,  1.00000000e+00],\n",
       "          [ 1.00000000e+00,  1.00000000e+00],\n",
       "          [ 1.00000000e+00,  1.00000000e+00]],\n",
       "\n",
       "         [[ 1.00000000e+00,  1.00000000e+00],\n",
       "          [ 1.00000000e+00,  1.00000000e+00],\n",
       "          [ 1.00000000e+00,  1.00000000e+00],\n",
       "          [ 1.00000000e+00,  1.00000000e+00]]],\n",
       "\n",
       "\n",
       "        [[[ 1.00000000e+00,  1.00000000e+00],\n",
       "          [ 1.00000000e+00,  1.00000000e+00],\n",
       "          [ 1.00000000e+00,  1.00000000e+00],\n",
       "          [ 1.00000000e+00,  1.00000000e+00]],\n",
       "\n",
       "         [[ 1.00000000e+00,  1.00000000e+00],\n",
       "          [ 1.00000000e+00,  1.00000000e+00],\n",
       "          [ 1.00000000e+00,  1.00000000e+00],\n",
       "          [ 1.00000000e+00,  1.00000000e+00]],\n",
       "\n",
       "         [[ 1.00000000e+00,  1.00000000e+00],\n",
       "          [ 1.00000000e+00,  1.00000000e+00],\n",
       "          [ 1.00000000e+00,  1.00000000e+00],\n",
       "          [ 1.00000000e+00,  1.00000000e+00]],\n",
       "\n",
       "         [[ 1.00000000e+00,  1.00000000e+00],\n",
       "          [ 1.00000000e+00,  1.00000000e+00],\n",
       "          [ 1.00000000e+00,  1.00000000e+00],\n",
       "          [ 1.00000000e+00,  1.00000000e+00]]]],\n",
       "\n",
       "\n",
       "\n",
       "       [[[[ 1.00000000e+00,  1.00000000e+00],\n",
       "          [ 1.00000000e+00,  1.00000000e+00],\n",
       "          [ 1.00000000e+00,  1.00000000e+00],\n",
       "          [ 1.00000000e+00,  1.00000000e+00]],\n",
       "\n",
       "         [[ 1.00000000e+00,  1.00000000e+00],\n",
       "          [ 1.00000000e+00,  1.00000000e+00],\n",
       "          [ 1.00000000e+00,  1.00000000e+00],\n",
       "          [ 1.00000000e+00,  1.00000000e+00]],\n",
       "\n",
       "         [[ 1.00000000e+00,  1.00000000e+00],\n",
       "          [ 1.00000000e+00,  1.00000000e+00],\n",
       "          [ 1.00000000e+00,  1.00000000e+00],\n",
       "          [ 1.00000000e+00,  1.00000000e+00]],\n",
       "\n",
       "         [[ 1.00000000e+00,  1.00000000e+00],\n",
       "          [ 1.00000000e+00,  1.00000000e+00],\n",
       "          [ 1.00000000e+00,  1.00000000e+00],\n",
       "          [ 1.00000000e+00,  1.00000000e+00]]],\n",
       "\n",
       "\n",
       "        [[[ 1.00000000e+00,  1.00000000e+00],\n",
       "          [ 1.00000000e+00,  1.00000000e+00],\n",
       "          [ 1.00000000e+00,  1.00000000e+00],\n",
       "          [ 1.00000000e+00,  1.00000000e+00]],\n",
       "\n",
       "         [[ 1.00000000e+00,  1.00000000e+00],\n",
       "          [-1.78897225e+03, -1.82905906e+03],\n",
       "          [-1.79067638e+03, -1.78889087e+03],\n",
       "          [ 1.00000000e+00,  1.00000000e+00]],\n",
       "\n",
       "         [[ 1.00000000e+00,  1.00000000e+00],\n",
       "          [-1.91956106e+03, -1.76000474e+03],\n",
       "          [-1.87616164e+03, -1.76599233e+03],\n",
       "          [ 1.00000000e+00,  1.00000000e+00]],\n",
       "\n",
       "         [[ 1.00000000e+00,  1.00000000e+00],\n",
       "          [ 1.00000000e+00,  1.00000000e+00],\n",
       "          [ 1.00000000e+00,  1.00000000e+00],\n",
       "          [ 1.00000000e+00,  1.00000000e+00]]],\n",
       "\n",
       "\n",
       "        [[[ 1.00000000e+00,  1.00000000e+00],\n",
       "          [ 1.00000000e+00,  1.00000000e+00],\n",
       "          [ 1.00000000e+00,  1.00000000e+00],\n",
       "          [ 1.00000000e+00,  1.00000000e+00]],\n",
       "\n",
       "         [[ 1.00000000e+00,  1.00000000e+00],\n",
       "          [-1.77258586e+03, -1.83663255e+03],\n",
       "          [-1.86314457e+03, -1.94088357e+03],\n",
       "          [ 1.00000000e+00,  1.00000000e+00]],\n",
       "\n",
       "         [[ 1.00000000e+00,  1.00000000e+00],\n",
       "          [-1.84856328e+03, -1.74763969e+03],\n",
       "          [-1.91935932e+03, -1.74798590e+03],\n",
       "          [ 1.00000000e+00,  1.00000000e+00]],\n",
       "\n",
       "         [[ 1.00000000e+00,  1.00000000e+00],\n",
       "          [ 1.00000000e+00,  1.00000000e+00],\n",
       "          [ 1.00000000e+00,  1.00000000e+00],\n",
       "          [ 1.00000000e+00,  1.00000000e+00]]],\n",
       "\n",
       "\n",
       "        [[[ 1.00000000e+00,  1.00000000e+00],\n",
       "          [ 1.00000000e+00,  1.00000000e+00],\n",
       "          [ 1.00000000e+00,  1.00000000e+00],\n",
       "          [ 1.00000000e+00,  1.00000000e+00]],\n",
       "\n",
       "         [[ 1.00000000e+00,  1.00000000e+00],\n",
       "          [ 1.00000000e+00,  1.00000000e+00],\n",
       "          [ 1.00000000e+00,  1.00000000e+00],\n",
       "          [ 1.00000000e+00,  1.00000000e+00]],\n",
       "\n",
       "         [[ 1.00000000e+00,  1.00000000e+00],\n",
       "          [ 1.00000000e+00,  1.00000000e+00],\n",
       "          [ 1.00000000e+00,  1.00000000e+00],\n",
       "          [ 1.00000000e+00,  1.00000000e+00]],\n",
       "\n",
       "         [[ 1.00000000e+00,  1.00000000e+00],\n",
       "          [ 1.00000000e+00,  1.00000000e+00],\n",
       "          [ 1.00000000e+00,  1.00000000e+00],\n",
       "          [ 1.00000000e+00,  1.00000000e+00]]]],\n",
       "\n",
       "\n",
       "\n",
       "       [[[[ 1.00000000e+00,  1.00000000e+00],\n",
       "          [ 1.00000000e+00,  1.00000000e+00],\n",
       "          [ 1.00000000e+00,  1.00000000e+00],\n",
       "          [ 1.00000000e+00,  1.00000000e+00]],\n",
       "\n",
       "         [[ 1.00000000e+00,  1.00000000e+00],\n",
       "          [ 1.00000000e+00,  1.00000000e+00],\n",
       "          [ 1.00000000e+00,  1.00000000e+00],\n",
       "          [ 1.00000000e+00,  1.00000000e+00]],\n",
       "\n",
       "         [[ 1.00000000e+00,  1.00000000e+00],\n",
       "          [ 1.00000000e+00,  1.00000000e+00],\n",
       "          [ 1.00000000e+00,  1.00000000e+00],\n",
       "          [ 1.00000000e+00,  1.00000000e+00]],\n",
       "\n",
       "         [[ 1.00000000e+00,  1.00000000e+00],\n",
       "          [ 1.00000000e+00,  1.00000000e+00],\n",
       "          [ 1.00000000e+00,  1.00000000e+00],\n",
       "          [ 1.00000000e+00,  1.00000000e+00]]],\n",
       "\n",
       "\n",
       "        [[[ 1.00000000e+00,  1.00000000e+00],\n",
       "          [ 1.00000000e+00,  1.00000000e+00],\n",
       "          [ 1.00000000e+00,  1.00000000e+00],\n",
       "          [ 1.00000000e+00,  1.00000000e+00]],\n",
       "\n",
       "         [[ 1.00000000e+00,  1.00000000e+00],\n",
       "          [-1.75750042e+03, -1.86833981e+03],\n",
       "          [-1.74882944e+03, -1.82084772e+03],\n",
       "          [ 1.00000000e+00,  1.00000000e+00]],\n",
       "\n",
       "         [[ 1.00000000e+00,  1.00000000e+00],\n",
       "          [-1.91619669e+03, -1.86325588e+03],\n",
       "          [-1.84877700e+03, -1.76752190e+03],\n",
       "          [ 1.00000000e+00,  1.00000000e+00]],\n",
       "\n",
       "         [[ 1.00000000e+00,  1.00000000e+00],\n",
       "          [ 1.00000000e+00,  1.00000000e+00],\n",
       "          [ 1.00000000e+00,  1.00000000e+00],\n",
       "          [ 1.00000000e+00,  1.00000000e+00]]],\n",
       "\n",
       "\n",
       "        [[[ 1.00000000e+00,  1.00000000e+00],\n",
       "          [ 1.00000000e+00,  1.00000000e+00],\n",
       "          [ 1.00000000e+00,  1.00000000e+00],\n",
       "          [ 1.00000000e+00,  1.00000000e+00]],\n",
       "\n",
       "         [[ 1.00000000e+00,  1.00000000e+00],\n",
       "          [-1.74797158e+03, -1.87560924e+03],\n",
       "          [-1.76068534e+03, -1.88644905e+03],\n",
       "          [ 1.00000000e+00,  1.00000000e+00]],\n",
       "\n",
       "         [[ 1.00000000e+00,  1.00000000e+00],\n",
       "          [-1.79269806e+03, -1.79136922e+03],\n",
       "          [-1.84887760e+03, -1.79435496e+03],\n",
       "          [ 1.00000000e+00,  1.00000000e+00]],\n",
       "\n",
       "         [[ 1.00000000e+00,  1.00000000e+00],\n",
       "          [ 1.00000000e+00,  1.00000000e+00],\n",
       "          [ 1.00000000e+00,  1.00000000e+00],\n",
       "          [ 1.00000000e+00,  1.00000000e+00]]],\n",
       "\n",
       "\n",
       "        [[[ 1.00000000e+00,  1.00000000e+00],\n",
       "          [ 1.00000000e+00,  1.00000000e+00],\n",
       "          [ 1.00000000e+00,  1.00000000e+00],\n",
       "          [ 1.00000000e+00,  1.00000000e+00]],\n",
       "\n",
       "         [[ 1.00000000e+00,  1.00000000e+00],\n",
       "          [ 1.00000000e+00,  1.00000000e+00],\n",
       "          [ 1.00000000e+00,  1.00000000e+00],\n",
       "          [ 1.00000000e+00,  1.00000000e+00]],\n",
       "\n",
       "         [[ 1.00000000e+00,  1.00000000e+00],\n",
       "          [ 1.00000000e+00,  1.00000000e+00],\n",
       "          [ 1.00000000e+00,  1.00000000e+00],\n",
       "          [ 1.00000000e+00,  1.00000000e+00]],\n",
       "\n",
       "         [[ 1.00000000e+00,  1.00000000e+00],\n",
       "          [ 1.00000000e+00,  1.00000000e+00],\n",
       "          [ 1.00000000e+00,  1.00000000e+00],\n",
       "          [ 1.00000000e+00,  1.00000000e+00]]]],\n",
       "\n",
       "\n",
       "\n",
       "       [[[[ 1.00000000e+00,  1.00000000e+00],\n",
       "          [ 1.00000000e+00,  1.00000000e+00],\n",
       "          [ 1.00000000e+00,  1.00000000e+00],\n",
       "          [ 1.00000000e+00,  1.00000000e+00]],\n",
       "\n",
       "         [[ 1.00000000e+00,  1.00000000e+00],\n",
       "          [ 1.00000000e+00,  1.00000000e+00],\n",
       "          [ 1.00000000e+00,  1.00000000e+00],\n",
       "          [ 1.00000000e+00,  1.00000000e+00]],\n",
       "\n",
       "         [[ 1.00000000e+00,  1.00000000e+00],\n",
       "          [ 1.00000000e+00,  1.00000000e+00],\n",
       "          [ 1.00000000e+00,  1.00000000e+00],\n",
       "          [ 1.00000000e+00,  1.00000000e+00]],\n",
       "\n",
       "         [[ 1.00000000e+00,  1.00000000e+00],\n",
       "          [ 1.00000000e+00,  1.00000000e+00],\n",
       "          [ 1.00000000e+00,  1.00000000e+00],\n",
       "          [ 1.00000000e+00,  1.00000000e+00]]],\n",
       "\n",
       "\n",
       "        [[[ 1.00000000e+00,  1.00000000e+00],\n",
       "          [ 1.00000000e+00,  1.00000000e+00],\n",
       "          [ 1.00000000e+00,  1.00000000e+00],\n",
       "          [ 1.00000000e+00,  1.00000000e+00]],\n",
       "\n",
       "         [[ 1.00000000e+00,  1.00000000e+00],\n",
       "          [ 1.00000000e+00,  1.00000000e+00],\n",
       "          [ 1.00000000e+00, -8.85278784e+01],\n",
       "          [ 1.00000000e+00,  1.00000000e+00]],\n",
       "\n",
       "         [[ 1.00000000e+00,  1.00000000e+00],\n",
       "          [ 1.00000000e+00,  1.00000000e+00],\n",
       "          [-9.22574273e+01, -1.39703815e+02],\n",
       "          [ 1.00000000e+00,  1.00000000e+00]],\n",
       "\n",
       "         [[ 1.00000000e+00,  1.00000000e+00],\n",
       "          [ 1.00000000e+00,  1.00000000e+00],\n",
       "          [ 1.00000000e+00,  1.00000000e+00],\n",
       "          [ 1.00000000e+00,  1.00000000e+00]]],\n",
       "\n",
       "\n",
       "        [[[ 1.00000000e+00,  1.00000000e+00],\n",
       "          [ 1.00000000e+00,  1.00000000e+00],\n",
       "          [ 1.00000000e+00,  1.00000000e+00],\n",
       "          [ 1.00000000e+00,  1.00000000e+00]],\n",
       "\n",
       "         [[ 1.00000000e+00,  1.00000000e+00],\n",
       "          [-3.74669554e+02, -3.06206095e+02],\n",
       "          [-1.35089234e+00, -7.70451734e+01],\n",
       "          [ 1.00000000e+00,  1.00000000e+00]],\n",
       "\n",
       "         [[ 1.00000000e+00,  1.00000000e+00],\n",
       "          [-2.66613451e+02, -6.97048889e+01],\n",
       "          [-3.21549169e+02, -4.09264024e+02],\n",
       "          [ 1.00000000e+00,  1.00000000e+00]],\n",
       "\n",
       "         [[ 1.00000000e+00,  1.00000000e+00],\n",
       "          [ 1.00000000e+00,  1.00000000e+00],\n",
       "          [ 1.00000000e+00,  1.00000000e+00],\n",
       "          [ 1.00000000e+00,  1.00000000e+00]]],\n",
       "\n",
       "\n",
       "        [[[ 1.00000000e+00,  1.00000000e+00],\n",
       "          [ 1.00000000e+00,  1.00000000e+00],\n",
       "          [ 1.00000000e+00,  1.00000000e+00],\n",
       "          [ 1.00000000e+00,  1.00000000e+00]],\n",
       "\n",
       "         [[ 1.00000000e+00,  1.00000000e+00],\n",
       "          [ 1.00000000e+00,  1.00000000e+00],\n",
       "          [ 1.00000000e+00,  1.00000000e+00],\n",
       "          [ 1.00000000e+00,  1.00000000e+00]],\n",
       "\n",
       "         [[ 1.00000000e+00,  1.00000000e+00],\n",
       "          [ 1.00000000e+00,  1.00000000e+00],\n",
       "          [ 1.00000000e+00,  1.00000000e+00],\n",
       "          [ 1.00000000e+00,  1.00000000e+00]],\n",
       "\n",
       "         [[ 1.00000000e+00,  1.00000000e+00],\n",
       "          [ 1.00000000e+00,  1.00000000e+00],\n",
       "          [ 1.00000000e+00,  1.00000000e+00],\n",
       "          [ 1.00000000e+00,  1.00000000e+00]]]]])"
      ]
     },
     "execution_count": 38,
     "metadata": {},
     "output_type": "execute_result"
    }
   ],
   "source": [
    "Q\n"
   ]
  },
  {
   "cell_type": "code",
   "execution_count": 49,
   "metadata": {},
   "outputs": [],
   "source": [
    "def run(env, Q, max_move=2000):\n",
    "    observation = env.reset()\n",
    "    env.render()\n",
    "    done = False\n",
    "    steps = 0\n",
    "    while not done and steps<max_move:\n",
    "        steps += 1\n",
    "        action = np.argmax(Q[find_bin(observation[0], binn[0]), find_bin(observation[1], binn[1]), find_bin(observation[2], binn[2]), find_bin(observation[3], binn[3])])\n",
    "        observation, reward, done, _ = env.step(action)\n",
    "    return steps"
   ]
  },
  {
   "cell_type": "code",
   "execution_count": 50,
   "metadata": {},
   "outputs": [
    {
     "data": {
      "text/plain": [
       "60"
      ]
     },
     "execution_count": 50,
     "metadata": {},
     "output_type": "execute_result"
    }
   ],
   "source": [
    "run(env, Q)"
   ]
  },
  {
   "cell_type": "code",
   "execution_count": null,
   "metadata": {},
   "outputs": [],
   "source": []
  }
 ],
 "metadata": {
  "kernelspec": {
   "display_name": "Python 3",
   "language": "python",
   "name": "python3"
  },
  "language_info": {
   "codemirror_mode": {
    "name": "ipython",
    "version": 3
   },
   "file_extension": ".py",
   "mimetype": "text/x-python",
   "name": "python",
   "nbconvert_exporter": "python",
   "pygments_lexer": "ipython3",
   "version": "3.6.3"
  }
 },
 "nbformat": 4,
 "nbformat_minor": 2
}
