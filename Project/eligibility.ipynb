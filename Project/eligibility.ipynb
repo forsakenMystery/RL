{
 "cells": [
  {
   "cell_type": "code",
   "execution_count": 1,
   "metadata": {},
   "outputs": [],
   "source": [
    "import gym\n",
    "import numpy as np\n",
    "import matplotlib.pyplot as plt\n",
    "from gym import wrappers\n",
    "import matplotlib\n",
    "from mpl_toolkits.mplot3d import Axes3D\n",
    "from sklearn.preprocessing import StandardScaler, MinMaxScaler, Normalizer\n",
    "from collections import namedtuple  \n",
    "from sklearn.kernel_approximation import RBFSampler\n",
    "from sklearn.pipeline import FeatureUnion\n"
   ]
  },
  {
   "cell_type": "code",
   "execution_count": 2,
   "metadata": {},
   "outputs": [
    {
     "data": {
      "text/plain": [
       "array([ 0.01964741, -0.02541895,  0.03217085, -0.01460623])"
      ]
     },
     "execution_count": 2,
     "metadata": {},
     "output_type": "execute_result"
    }
   ],
   "source": [
    "env = gym.make('CartPole-v0')\n",
    "env.reset()"
   ]
  },
  {
   "cell_type": "code",
   "execution_count": 3,
   "metadata": {},
   "outputs": [],
   "source": [
    "class Gradient_Decent_with_eligibility:\n",
    "    def __init__(self, dimension):\n",
    "        self.w = np.random.randn(dimension)/np.sqrt(dimension)\n",
    "        self.learning_rate = 1e-2\n",
    "    \n",
    "    def partial_fit(self, X, Y, eligibility_traces):\n",
    "        self.w += self.learning_rate*(Y-X.dot(self.w))*eligibility_traces\n",
    "        \n",
    "    def predict(self, X):\n",
    "        return X.dot(self.w)"
   ]
  },
  {
   "cell_type": "code",
   "execution_count": 4,
   "metadata": {},
   "outputs": [
    {
     "name": "stdout",
     "output_type": "stream",
     "text": [
      "(10000, 4)\n",
      "[[ 3.69947970e-01  1.55886219e+38 -2.19321281e-01 -2.42504480e+38]\n",
      " [ 5.54118514e-01 -2.38532333e+38  1.15929857e-01 -3.16245034e+38]\n",
      " [ 2.79104114e+00  9.32589047e+37  2.54739463e-01  1.91932543e+38]\n",
      " ...\n",
      " [-4.78505421e+00 -2.83382848e+36  2.86643151e-02  2.59956480e+38]\n",
      " [-2.29848433e+00 -1.45570733e+37  1.36124799e-02 -2.71270069e+38]\n",
      " [-6.19448602e-01  1.32206952e+38  2.47121587e-01  2.52060558e+38]]\n",
      "Normalizer(copy=True, norm='l2')\n",
      "[[ 1.28326629e-39  5.40734229e-01 -7.60776188e-40 -8.41193493e-01]\n",
      " [ 1.39887624e-39 -6.02176618e-01  2.92665771e-40 -7.98362901e-01]\n",
      " [ 1.30795264e-38  4.37034873e-01  1.19377371e-39  8.99444562e-01]\n",
      " ...\n",
      " [-1.84060421e-38 -1.09005173e-02  1.10259272e-40  9.99940588e-01]\n",
      " [-8.46087449e-39 -5.35855601e-02  5.01084487e-41 -9.98563262e-01]\n",
      " [-2.17634316e-39  4.64490025e-01  8.68225992e-40  8.85578352e-01]]\n"
     ]
    }
   ],
   "source": [
    "standard = Normalizer(norm='l2')\n",
    "observation_examples = np.array([env.observation_space.sample() for x in range(10000)])\n",
    "observation_examples = observation_examples.astype(np.float64)\n",
    "standard.fit(observation_examples)\n",
    "\n",
    "standarding = standard.transform(observation_examples)\n",
    "print(observation_examples.shape)\n",
    "print(observation_examples)\n",
    "print(standard)\n",
    "print(standarding)"
   ]
  },
  {
   "cell_type": "code",
   "execution_count": 5,
   "metadata": {},
   "outputs": [
    {
     "name": "stdout",
     "output_type": "stream",
     "text": [
      "(10000, 4)\n",
      "[[ 2.12671447e+00 -2.56586517e+38  3.74487370e-01  2.94300461e+38]\n",
      " [ 7.79355884e-01  3.02210662e+38  2.36158714e-01 -2.42044699e+38]\n",
      " [ 4.47333860e+00 -2.40777413e+38  1.05342962e-01  9.16121252e+37]\n",
      " ...\n",
      " [ 7.69115150e-01  3.22517471e+38  2.51196653e-01 -3.29526027e+37]\n",
      " [-4.48617125e+00 -1.01892082e+38 -4.09972161e-01  3.30990650e+38]\n",
      " [-6.45874381e-01  1.71738099e+38 -1.67104632e-01  7.62160168e+37]]\n",
      "s StandardScaler(copy=True, with_mean=True, with_std=True)\n",
      "m [-5.98951643e-03  1.76152519e+36  3.98405185e-03  9.92912798e+35]\n",
      "ing [[ 0.77288054 -1.32072909  1.53732938  1.48653539]\n",
      " [ 0.28460498  1.53595867  0.9633623  -1.23175832]\n",
      " [ 1.62328461 -1.23990966  0.42056851  0.45927446]\n",
      " ...\n",
      " [ 0.2808938   1.63977132  1.02575922 -0.17204198]\n",
      " [-1.62359395 -0.52989887 -1.71762847  1.67248787]\n",
      " [-0.23189086  0.86895571 -0.70989826  0.38124422]]\n"
     ]
    }
   ],
   "source": [
    "standard = StandardScaler()\n",
    "observation_examples = np.array([env.observation_space.sample() for x in range(10000)])\n",
    "observation_examples = observation_examples.astype(np.float64)\n",
    "standard.fit(observation_examples)\n",
    "\n",
    "standarding = standard.transform(observation_examples)\n",
    "print(observation_examples.shape)\n",
    "print(observation_examples)\n",
    "print(\"s\", standard)\n",
    "print(\"m\", standard.mean_)\n",
    "print(\"ing\", standarding)"
   ]
  },
  {
   "cell_type": "code",
   "execution_count": 6,
   "metadata": {},
   "outputs": [
    {
     "name": "stdout",
     "output_type": "stream",
     "text": [
      "(10000, 4)\n",
      "[[-4.19085026e+00 -3.21071193e+38 -2.57145733e-01 -2.63400595e+38]\n",
      " [ 4.02673626e+00 -1.16441425e+38 -1.80423155e-01  2.71957217e+38]\n",
      " [ 2.70347238e+00 -5.08382704e+37 -1.00764282e-01  5.70979684e+36]\n",
      " ...\n",
      " [ 3.57979441e+00 -2.37846929e+38  1.90232098e-01  1.50293314e+38]\n",
      " [ 1.53602731e+00 -1.77888638e+38  3.86826903e-01 -2.14527128e+38]\n",
      " [ 1.64983958e-01 -1.41863549e+38 -2.24268109e-01  1.71828518e+38]]\n",
      "MinMaxScaler(copy=True, feature_range=(0, 1))\n",
      "[[0.06343618 0.02814569 0.19303426 0.11291464]\n",
      " [0.9195146  0.32884905 0.28463103 0.89964312]\n",
      " [0.78166176 0.42525286 0.37973336 0.50838251]\n",
      " ...\n",
      " [0.87295382 0.15044371 0.72714518 0.72085343]\n",
      " [0.66004156 0.23855239 0.9618538  0.18473604]\n",
      " [0.51721123 0.29149125 0.23228586 0.75250023]]\n"
     ]
    }
   ],
   "source": [
    "standard = MinMaxScaler()\n",
    "observation_examples = np.array([env.observation_space.sample() for x in range(10000)])\n",
    "observation_examples = observation_examples.astype(np.float64)\n",
    "\n",
    "standard.fit(observation_examples)\n",
    "\n",
    "standarding = standard.transform(observation_examples)\n",
    "print(observation_examples.shape)\n",
    "print(observation_examples)\n",
    "print(standard)\n",
    "print(standarding)"
   ]
  },
  {
   "cell_type": "code",
   "execution_count": 7,
   "metadata": {},
   "outputs": [],
   "source": [
    "class Model:\n",
    "    def __init__(self, env, n_components=500):\n",
    "        self.env = env\n",
    "        self.standard = StandardScaler(with_mean=False)\n",
    "        observation_examples = np.array([env.observation_space.sample() for x in range(10000)])\n",
    "        observation_examples = observation_examples.astype(np.float64)\n",
    "\n",
    "        self.standard.fit(observation_examples)\n",
    "        self.models = []\n",
    "        self.featurizer = FeatureUnion([\n",
    "                (\"rbf1\", RBFSampler(gamma=5.0, n_components=n_components)),\n",
    "                (\"rbf2\", RBFSampler(gamma=2.0, n_components=n_components)),\n",
    "                (\"rbf3\", RBFSampler(gamma=1.0, n_components=n_components)),\n",
    "                (\"rbf4\", RBFSampler(gamma=0.5, n_components=n_components))\n",
    "                ])\n",
    "        standarding = self.standard.transform(observation_examples)\n",
    "        example_features = self.featurizer.fit_transform(standarding)\n",
    "        self.eligibilities = np.zeros((env.action_space.n, example_features.shape[1]))\n",
    "        for i in range(env.action_space.n):\n",
    "            model = Gradient_Decent_with_eligibility(example_features.shape[1])\n",
    "            self.models.append(model)\n",
    "    \n",
    "    def update(self, s, a, G, gamma, lamda):\n",
    "        X = self.featurizer.transform(self.standard.transform([s]))\n",
    "        self.eligibilities *= gamma*lamda\n",
    "        self.eligibilities[a] += X[0]\n",
    "        self.models[a].partial_fit(X[0], G, self.eligibilities[a])\n",
    "    \n",
    "    def predict(self, s):\n",
    "        X = self.featurizer.transform(self.standard.transform([s]))\n",
    "        return np.stack([m.predict(X) for m in self.models]).T\n",
    "    \n",
    "    def sample_action(self, s, eps):\n",
    "        if np.random.random() < eps:\n",
    "            return self.env.action_space.sample()\n",
    "        else:\n",
    "            return np.argmax(self.predict(s))"
   ]
  },
  {
   "cell_type": "code",
   "execution_count": 8,
   "metadata": {},
   "outputs": [],
   "source": [
    "def TD(model, env, eps, gamma=.9999, lamda=.7):\n",
    "    observation = env.reset()\n",
    "    done = False\n",
    "    totalreward = 0\n",
    "    iters = 0\n",
    "    while not done:\n",
    "        action = model.sample_action(observation, eps)\n",
    "        prev_observation = observation\n",
    "        observation, reward, done, info = env.step(action)\n",
    "        guess = model.predict(observation)\n",
    "        G = reward + gamma*np.max(guess[0])\n",
    "        model.update(prev_observation, action, G, gamma, lamda)\n",
    "\n",
    "        totalreward += reward\n",
    "        iters += 1\n",
    "\n",
    "    return totalreward"
   ]
  },
  {
   "cell_type": "code",
   "execution_count": 10,
   "metadata": {},
   "outputs": [
    {
     "name": "stdout",
     "output_type": "stream",
     "text": [
      "why\n",
      "(10000, 4)\n",
      "[[-9.57679868e-01  2.82886717e+38  1.31948357e-02 -1.07468538e+38]\n",
      " [-3.35242081e+00  1.28269698e+37  3.41666758e-01  3.18951316e+38]\n",
      " [ 6.71409547e-01  2.84340256e+38  3.05710644e-01 -1.31114308e+38]\n",
      " ...\n",
      " [ 4.41764593e+00  2.29241488e+38  2.74030298e-01 -6.48497747e+37]\n",
      " [ 3.07447624e+00  1.44698574e+38 -1.16362497e-01 -1.76984448e+38]\n",
      " [ 1.54982376e+00  1.34364311e+38  4.85544242e-02 -2.93178296e+38]]\n",
      "StandardScaler(copy=True, with_mean=False, with_std=True)\n",
      "[[-0.34628783  1.4366427   0.05475427 -0.54196836]\n",
      " [-1.21220312  0.06514188  1.41780571  1.60848491]\n",
      " [ 0.24277523  1.44402451  1.26859956 -0.66121497]\n",
      " ...\n",
      " [ 1.59737828  1.16420493  1.13713644 -0.32704014]\n",
      " [ 1.11170104  0.73485299 -0.48286645 -0.89254002]\n",
      " [ 0.56040137  0.68237034  0.20148504 -1.47851048]]\n",
      "Wtf\n",
      "1\n",
      "100\n",
      "200\n",
      "300\n",
      "400\n",
      "500\n",
      "600\n",
      "700\n",
      "800\n",
      "900\n",
      "1000\n"
     ]
    },
    {
     "data": {
      "image/png": "[encoded data removed]",
      "text/plain": [
       "<Figure size 432x288 with 1 Axes>"
      ]
     },
     "metadata": {},
     "output_type": "display_data"
    }
   ],
   "source": [
    "model =Model(env)\n",
    "\n",
    "episodes = 1000\n",
    "rewards = []\n",
    "for i in range(episodes):\n",
    "    if (i+1)%100==0 or i==0:\n",
    "        print(i+1)\n",
    "    eps = 1*(0.99**i)\n",
    "    reward=TD(env=env, model=model, eps=eps)\n",
    "    rewards.append(reward)\n",
    "plt.plot(rewards)\n",
    "plt.show()\n"
   ]
  },
  {
   "cell_type": "code",
   "execution_count": null,
   "metadata": {},
   "outputs": [],
   "source": []
  },
  {
   "cell_type": "code",
   "execution_count": null,
   "metadata": {},
   "outputs": [],
   "source": []
  }
 ],
 "metadata": {
  "kernelspec": {
   "display_name": "Python 3",
   "language": "python",
   "name": "python3"
  },
  "language_info": {
   "codemirror_mode": {
    "name": "ipython",
    "version": 3
   },
   "file_extension": ".py",
   "mimetype": "text/x-python",
   "name": "python",
   "nbconvert_exporter": "python",
   "pygments_lexer": "ipython3",
   "version": "3.6.3"
  }
 },
 "nbformat": 4,
 "nbformat_minor": 2
}
