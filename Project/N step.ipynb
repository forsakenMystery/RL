{
 "cells": [
  {
   "cell_type": "code",
   "execution_count": 1,
   "metadata": {},
   "outputs": [],
   "source": [
    "import gym\n",
    "import numpy as np\n",
    "import matplotlib.pyplot as plt\n",
    "from gym import wrappers\n",
    "import matplotlib\n",
    "from mpl_toolkits.mplot3d import Axes3D\n",
    "from sklearn.preprocessing import StandardScaler\n",
    "from collections import namedtuple  \n",
    "from sklearn.kernel_approximation import RBFSampler\n",
    "from sklearn.pipeline import FeatureUnion\n"
   ]
  },
  {
   "cell_type": "code",
   "execution_count": 2,
   "metadata": {},
   "outputs": [
    {
     "data": {
      "text/plain": [
       "array([-0.48745376,  0.        ])"
      ]
     },
     "execution_count": 2,
     "metadata": {},
     "output_type": "execute_result"
    }
   ],
   "source": [
    "env = gym.make('MountainCar-v0')\n",
    "env.reset()"
   ]
  },
  {
   "cell_type": "markdown",
   "metadata": {},
   "source": [
    "# Q learning N step"
   ]
  },
  {
   "cell_type": "code",
   "execution_count": 3,
   "metadata": {},
   "outputs": [],
   "source": [
    "class Simple_Gradient_Decent:\n",
    "    def __init__(self):\n",
    "        self.w = None\n",
    "        self.learning_rate = 1e-2\n",
    "    \n",
    "    def partial_fit(self, X, Y):\n",
    "        if self.w is None:\n",
    "            self.w = np.random.randn(X.shape[1])/np.sqrt(X.shape[1])\n",
    "        self.w += self.learning_rate*(Y-X.dot(self.w)).dot(X)\n",
    "    \n",
    "    def predict(self, X):\n",
    "        return X.dot(self.w)"
   ]
  },
  {
   "cell_type": "code",
   "execution_count": 4,
   "metadata": {},
   "outputs": [],
   "source": [
    "class Model:\n",
    "    def __init__(self, env, n_components=500):\n",
    "        self.env = env\n",
    "        self.standard = StandardScaler()\n",
    "        observation_examples = np.array([env.observation_space.sample() for x in range(10000)])\n",
    "        self.standard.fit(observation_examples)\n",
    "        self.models = []\n",
    "        self.featurizer = FeatureUnion([\n",
    "                (\"rbf1\", RBFSampler(gamma=5.0, n_components=n_components)),\n",
    "                (\"rbf2\", RBFSampler(gamma=2.0, n_components=n_components)),\n",
    "                (\"rbf3\", RBFSampler(gamma=1.0, n_components=n_components)),\n",
    "                (\"rbf4\", RBFSampler(gamma=0.5, n_components=n_components))\n",
    "                ])\n",
    "        example_features = self.featurizer.fit_transform(self.standard.transform(observation_examples))\n",
    "        for i in range(env.action_space.n):\n",
    "            model = Simple_Gradient_Decent()\n",
    "            model.partial_fit(self.featurizer.transform(self.standard.transform( [env.reset()] )), [0])\n",
    "            self.models.append(model)\n",
    "    \n",
    "    def update(self, s, a, G):\n",
    "        X = self.featurizer.transform(self.standard.transform([s]))\n",
    "        self.models[a].partial_fit(X, [G])\n",
    "    \n",
    "    def predict(self, s):\n",
    "        X = self.featurizer.transform(self.standard.transform([s]))\n",
    "        return np.stack([m.predict(X) for m in self.models]).T\n",
    "    \n",
    "    def sample_action(self, s, eps):\n",
    "        if np.random.random() < eps:\n",
    "            return self.env.action_space.sample()\n",
    "        else:\n",
    "            return np.argmax(self.predict(s))"
   ]
  },
  {
   "cell_type": "code",
   "execution_count": 5,
   "metadata": {},
   "outputs": [],
   "source": [
    "Transition = namedtuple('Transition', ['state', 'action', 'reward'])"
   ]
  },
  {
   "cell_type": "code",
   "execution_count": 6,
   "metadata": {},
   "outputs": [],
   "source": [
    "def N_step_Q(env, model, eps, gamma, N=10):\n",
    "    observation = env.reset()\n",
    "    done = False\n",
    "    total_rewards = 0\n",
    "    states = []\n",
    "    rewards = []\n",
    "    multiplier = (gamma*np.ones(N))**np.arange(N)\n",
    "    actions = []\n",
    "    while not done:\n",
    "        action = model.sample_action(observation, eps)\n",
    "        obs, reward, done, info = env.step(action)\n",
    "#         history.append(Transition(state=observation, action=action, reward=reward))\n",
    "        states.append(observation)\n",
    "        rewards.append(reward)\n",
    "        actions.append(action)\n",
    "        observation = obs\n",
    "        if len(rewards)==N:\n",
    "            returning = multiplier.dot(rewards)\n",
    "            G = returning + (gamma**N)*np.max(model.predict(observation)[0])\n",
    "            model.update(states[-N], actions[-N], G)\n",
    "            rewards.pop(0)\n",
    "            actions.pop(0)\n",
    "            states.pop(0)\n",
    "        total_rewards += reward\n",
    "    if observation[0]>=0.5:\n",
    "        while len(rewards) != 0:\n",
    "            G = multiplier[:len(rewards)].dot(rewards)\n",
    "            model.update(states[0], actions[0], G)\n",
    "            rewards.pop(0)\n",
    "            actions.pop(0)\n",
    "            states.pop(0)\n",
    "    else:\n",
    "        while len(rewards) > 0:\n",
    "            guess_rewards = rewards + [-1.0]*(N - len(rewards))\n",
    "            G = multiplier.dot(guess_rewards)\n",
    "            model.update(states[0], actions[0], G)\n",
    "            rewards.pop(0)\n",
    "            states.pop(0)\n",
    "            actions.pop(0)\n",
    "    return total_rewards\n",
    "\n",
    "        \n",
    "    "
   ]
  },
  {
   "cell_type": "code",
   "execution_count": 10,
   "metadata": {},
   "outputs": [
    {
     "data": {
      "image/png": "[encoded data removed]",
      "text/plain": [
       "<Figure size 432x288 with 1 Axes>"
      ]
     },
     "metadata": {},
     "output_type": "display_data"
    }
   ],
   "source": [
    "model =Model(env)\n",
    "\n",
    "gamma = 0.99\n",
    "episodes = 200\n",
    "rewards = []\n",
    "for i in range(episodes):\n",
    "    eps = 1*(0.99**i)\n",
    "    reward=N_step_Q(env=env, model=model, eps=eps, gamma=gamma)\n",
    "    rewards.append(reward)\n",
    "plt.plot(rewards)\n",
    "plt.show()"
   ]
  },
  {
   "cell_type": "code",
   "execution_count": null,
   "metadata": {},
   "outputs": [],
   "source": []
  },
  {
   "cell_type": "code",
   "execution_count": null,
   "metadata": {},
   "outputs": [],
   "source": []
  }
 ],
 "metadata": {
  "kernelspec": {
   "display_name": "Python 3",
   "language": "python",
   "name": "python3"
  },
  "language_info": {
   "codemirror_mode": {
    "name": "ipython",
    "version": 3
   },
   "file_extension": ".py",
   "mimetype": "text/x-python",
   "name": "python",
   "nbconvert_exporter": "python",
   "pygments_lexer": "ipython3",
   "version": "3.6.3"
  }
 },
 "nbformat": 4,
 "nbformat_minor": 2
}
