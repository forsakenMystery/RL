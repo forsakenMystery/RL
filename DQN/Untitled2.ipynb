{
 "cells": [
  {
   "cell_type": "code",
   "execution_count": 1,
   "metadata": {},
   "outputs": [],
   "source": [
    "import torch\n",
    "import numpy as np\n",
    "import gym\n",
    "import matplotlib.pyplot as plt\n",
    "import copy\n",
    "import torch.nn as nn\n",
    "import torch.optim as optim\n",
    "import torch.nn.functional as F\n",
    "import torchvision.transforms as T\n",
    "from collections import deque\n",
    "from tqdm import tqdm\n",
    "import random"
   ]
  },
  {
   "cell_type": "code",
   "execution_count": 2,
   "metadata": {},
   "outputs": [
    {
     "data": {
      "image/png": "[encoded data removed]",
      "text/plain": [
       "<Figure size 432x288 with 1 Axes>"
      ]
     },
     "metadata": {},
     "output_type": "display_data"
    },
    {
     "name": "stdout",
     "output_type": "stream",
     "text": [
      "24.26\n"
     ]
    }
   ],
   "source": [
    "%matplotlib inline\n",
    "env = gym.make('CartPole-v0')\n",
    "episodes = 100\n",
    "remember = []\n",
    "episode_numbers = []\n",
    "for i in range(episodes):\n",
    "    episode_numbers.append(i)\n",
    "    observed = env.reset()\n",
    "    done = False\n",
    "    Return = 0\n",
    "    while(done!=True):\n",
    "        action = np.random.randint(env.action_space.n)\n",
    "        observed, reward, done, info = env.step(action)\n",
    "        Return += reward\n",
    "    remember.append(Return)\n",
    "plt.plot(episode_numbers, remember)\n",
    "plt.show()\n",
    "print(np.mean(np.array(remember)))"
   ]
  },
  {
   "cell_type": "code",
   "execution_count": 6,
   "metadata": {},
   "outputs": [
    {
     "data": {
      "text/plain": [
       "74"
      ]
     },
     "execution_count": 6,
     "metadata": {},
     "output_type": "execute_result"
    }
   ],
   "source": [
    "np.random.randint(100)"
   ]
  },
  {
   "cell_type": "code",
   "execution_count": 3,
   "metadata": {},
   "outputs": [],
   "source": [
    "class DQN:\n",
    "    def __init__(self, layer_sizes, lr, sync_freq, exp_replay_size, seed=None):\n",
    "        if seed is None:\n",
    "            seed = np.random.randint(100)\n",
    "        torch.manual_seed(seed)\n",
    "        self.q_net = self.build_nn(layer_sizes)\n",
    "        self.target_net = copy.deepcopy(self.q_net)\n",
    "        self.q_net.cuda()\n",
    "        self.target_net.cuda()\n",
    "        self.loss_fn = torch.nn.MSELoss()\n",
    "        self.optimizer = torch.optim.Adam(self.q_net.parameters(), lr=lr)\n",
    "        self.network_sync_freq = sync_freq\n",
    "        self.network_sync_counter = 0\n",
    "        self.gamma = torch.tensor(0.95).float().cuda()\n",
    "        self.experience_replay = deque(maxlen = exp_replay_size) \n",
    "    \n",
    "    def build_nn(self, layer_sizes):\n",
    "        \n",
    "        assert len(layer_sizes) > 1\n",
    "        layers = []\n",
    "        for index in range(len(layer_sizes)-1):\n",
    "            linear = nn.Linear(layer_sizes[index], layer_sizes[index+1])\n",
    "            act =    nn.Tanh() if index < len(layer_sizes)-2 else nn.Identity()\n",
    "            layers += (linear, act)\n",
    "        return nn.Sequential(*layers)\n",
    "    \n",
    "    def get_action(self, state, action_space_len, epsilon):\n",
    "        with torch.no_grad():\n",
    "            Qp = self.q_net(torch.from_numpy(state).float().cuda())\n",
    "        Q,A = torch.max(Qp, axis=0)\n",
    "        A = A if torch.rand(1,).item() > epsilon else torch.randint(0,action_space_len,(1,))\n",
    "        return A\n",
    "    \n",
    "    def get_q_next(self, state):\n",
    "        with torch.no_grad():\n",
    "            qp = self.target_net(state)\n",
    "        q,_ = torch.max(qp, axis=1)    \n",
    "        return q\n",
    "    \n",
    "    def collect_experience(self, experience):\n",
    "        self.experience_replay.append(experience)\n",
    "        return\n",
    "    \n",
    "    def sample_from_experience(self, sample_size):\n",
    "        if(len(self.experience_replay) < sample_size):\n",
    "            sample_size = len(self.experience_replay)   \n",
    "        sample = random.sample(self.experience_replay, sample_size)\n",
    "        s = torch.tensor([exp[0] for exp in sample]).float()\n",
    "        a = torch.tensor([exp[1] for exp in sample]).float()\n",
    "        rn = torch.tensor([exp[2] for exp in sample]).float()\n",
    "        sn = torch.tensor([exp[3] for exp in sample]).float()   \n",
    "        return s, a, rn, sn\n",
    "    \n",
    "    def train(self, batch_size ):\n",
    "        s, a, rn, sn = self.sample_from_experience( sample_size = batch_size)\n",
    "        if(self.network_sync_counter == self.network_sync_freq):\n",
    "            self.target_net.load_state_dict(self.q_net.state_dict())\n",
    "            self.network_sync_counter = 0\n",
    "        \n",
    "        qp = self.q_net(s.cuda())\n",
    "        pred_return, _ = torch.max(qp, axis=1)\n",
    "        \n",
    "        q_next = self.get_q_next(sn.cuda())\n",
    "        target_return = rn.cuda() + self.gamma * q_next\n",
    "        \n",
    "        loss = self.loss_fn(pred_return, target_return)\n",
    "        self.optimizer.zero_grad()\n",
    "        loss.backward(retain_graph=True)\n",
    "        self.optimizer.step()\n",
    "        \n",
    "        self.network_sync_counter += 1       \n",
    "        return loss.item()"
   ]
  },
  {
   "cell_type": "code",
   "execution_count": 4,
   "metadata": {},
   "outputs": [
    {
     "name": "stderr",
     "output_type": "stream",
     "text": [
      "100%|████████████████████████████████| 10000/10000 [29:59<00:00,  3.26it/s]\n"
     ]
    }
   ],
   "source": [
    "env = gym.make('CartPole-v0')\n",
    "input_dim = env.observation_space.shape[0]\n",
    "output_dim = env.action_space.n\n",
    "exp_replay_size = 256\n",
    "agent = DQN(seed = 1423, layer_sizes = [input_dim, 64, output_dim], lr = 1e-4, sync_freq = 5, exp_replay_size = exp_replay_size)\n",
    "\n",
    "# initiliaze experiance replay      \n",
    "index = 0\n",
    "for i in range(exp_replay_size):\n",
    "    obs = env.reset()\n",
    "    done = False\n",
    "    while(done != True):\n",
    "        A = agent.get_action(obs, env.action_space.n, epsilon=1)\n",
    "        obs_next, reward, done, _ = env.step(A.item())\n",
    "        agent.collect_experience([obs, A.item(), reward, obs_next])\n",
    "        obs = obs_next\n",
    "        index += 1\n",
    "        if( index > exp_replay_size ):\n",
    "            break\n",
    "            \n",
    "# Main training loop\n",
    "losses_list, reward_list, episode_len_list, epsilon_list  = [], [], [], []\n",
    "index = 128\n",
    "episodes = 10000\n",
    "epsilon = 1\n",
    "episode_numbers = []\n",
    "\n",
    "for i in tqdm(range(episodes)):\n",
    "    episode_numbers.append(i)\n",
    "    obs, done, losses, ep_len, rew = env.reset(), False, 0, 0, 0\n",
    "    while(done != True):\n",
    "        ep_len += 1 \n",
    "        A = agent.get_action(obs, env.action_space.n, epsilon)\n",
    "        obs_next, reward, done, _ = env.step(A.item())\n",
    "        agent.collect_experience([obs, A.item(), reward, obs_next])\n",
    "       \n",
    "        obs = obs_next\n",
    "        rew  += reward\n",
    "        index += 1\n",
    "        \n",
    "        if(index > 128):\n",
    "            index = 0\n",
    "            for j in range(4):\n",
    "                loss = agent.train(batch_size=16)\n",
    "                losses += loss      \n",
    "    if epsilon > 0.05 :\n",
    "        epsilon -= (1 / 5000)\n",
    "    \n",
    "    losses_list.append(losses/ep_len), reward_list.append(rew), episode_len_list.append(ep_len), epsilon_list.append(epsilon)"
   ]
  },
  {
   "cell_type": "code",
   "execution_count": 8,
   "metadata": {},
   "outputs": [
    {
     "data": {
      "image/png": "[encoded data removed]",
      "text/plain": [
       "<Figure size 432x288 with 1 Axes>"
      ]
     },
     "metadata": {},
     "output_type": "display_data"
    }
   ],
   "source": [
    "plt.plot(episode_numbers, reward_list)\n",
    "plt.show()"
   ]
  },
  {
   "cell_type": "code",
   "execution_count": null,
   "metadata": {},
   "outputs": [],
   "source": []
  }
 ],
 "metadata": {
  "kernelspec": {
   "display_name": "Python 3",
   "language": "python",
   "name": "python3"
  },
  "language_info": {
   "codemirror_mode": {
    "name": "ipython",
    "version": 3
   },
   "file_extension": ".py",
   "mimetype": "text/x-python",
   "name": "python",
   "nbconvert_exporter": "python",
   "pygments_lexer": "ipython3",
   "version": "3.6.3"
  }
 },
 "nbformat": 4,
 "nbformat_minor": 2
}
