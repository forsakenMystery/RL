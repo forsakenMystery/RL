{
 "cells": [
  {
   "cell_type": "code",
   "execution_count": 4,
   "metadata": {},
   "outputs": [],
   "source": [
    "import torch\n",
    "import numpy as np\n",
    "import gym\n",
    "import matplotlib.pyplot as plt\n",
    "import copy\n",
    "import torch.nn as nn\n",
    "import torch.optim as optim\n",
    "import torch.nn.functional as F\n",
    "import torchvision.transforms as T\n"
   ]
  },
  {
   "cell_type": "code",
   "execution_count": 5,
   "metadata": {},
   "outputs": [
    {
     "name": "stdout",
     "output_type": "stream",
     "text": [
      "0\n",
      "1\n",
      "2\n",
      "3\n",
      "4\n",
      "5\n",
      "6\n",
      "7\n",
      "8\n",
      "9\n"
     ]
    },
    {
     "data": {
      "image/png": "[encoded data removed]",
      "text/plain": [
       "<Figure size 432x288 with 1 Axes>"
      ]
     },
     "metadata": {},
     "output_type": "display_data"
    },
    {
     "name": "stdout",
     "output_type": "stream",
     "text": [
      "-20.3\n"
     ]
    }
   ],
   "source": [
    "%matplotlib inline\n",
    "env = gym.make('Pong-ram-v0')\n",
    "episodes = 10\n",
    "remember = []\n",
    "episode_numbers = []\n",
    "for i in range(episodes):\n",
    "    print(i)\n",
    "    episode_numbers.append(i)\n",
    "    observed = env.reset()\n",
    "    done = False\n",
    "    Return = 0\n",
    "    while(done!=True):\n",
    "#         env.render()\n",
    "        action = np.random.randint(env.action_space.n)\n",
    "        observed, reward, done, info = env.step(action)\n",
    "        Return += reward\n",
    "    remember.append(Return)\n",
    "plt.plot(episode_numbers, remember)\n",
    "plt.show()\n",
    "print(np.mean(np.array(remember)))"
   ]
  },
  {
   "cell_type": "code",
   "execution_count": 6,
   "metadata": {},
   "outputs": [],
   "source": [
    "class Trejectory:\n",
    "    def __init__(self, state, action, next_state, reward):\n",
    "        self.state = state\n",
    "        self. action = action\n",
    "        self.next_state = next_state\n",
    "        self.reward = reward"
   ]
  },
  {
   "cell_type": "code",
   "execution_count": 7,
   "metadata": {},
   "outputs": [],
   "source": [
    "class ReplayBuffer:\n",
    "    def __init__(self, size):\n",
    "        self.size = size\n",
    "        self.memory = []\n",
    "        self.front = -1\n",
    "    \n",
    "    def push(self, *args):\n",
    "        if self.__len__()<self.size:\n",
    "            self.memory.append(Trejectory(*args))\n",
    "        self.front = (self.front+1)%self.size\n",
    "    \n",
    "    def __len__(self):\n",
    "        return len(self.memory)\n",
    "    \n",
    "    def uniform_sample(self, batch):\n",
    "        return np.random.choice(self.memory, batch, replace=False)\n",
    "    "
   ]
  },
  {
   "cell_type": "code",
   "execution_count": 8,
   "metadata": {},
   "outputs": [],
   "source": [
    "def sample_n_unique(sampling_f, n):\n",
    "    res = []\n",
    "    while len(res) < n:\n",
    "        candidate = sampling_f()\n",
    "        if candidate not in res:\n",
    "            res.append(candidate)\n",
    "    return res"
   ]
  },
  {
   "cell_type": "code",
   "execution_count": 9,
   "metadata": {},
   "outputs": [],
   "source": [
    "class ReplayBuffer(object):\n",
    "    def __init__(self, size, frame_history_len):\n",
    "        self.size = size\n",
    "        self.frame_history_len = frame_history_len\n",
    "\n",
    "        self.next_idx      = 0\n",
    "        self.num_in_buffer = 0\n",
    "\n",
    "        self.obs      = None\n",
    "        self.action   = None\n",
    "        self.reward   = None\n",
    "        self.done     = None\n",
    "\n",
    "    def can_sample(self, batch_size):\n",
    "        return batch_size + 1 <= self.num_in_buffer\n",
    "\n",
    "    def _encode_sample(self, idxes):\n",
    "        obs_batch      = np.concatenate([self._encode_observation(idx)[np.newaxis, :] for idx in idxes], 0)\n",
    "        act_batch      = self.action[idxes]\n",
    "        rew_batch      = self.reward[idxes]\n",
    "        next_obs_batch = np.concatenate([self._encode_observation(idx + 1)[np.newaxis, :] for idx in idxes], 0)\n",
    "        done_mask      = np.array([1.0 if self.done[idx] else 0.0 for idx in idxes], dtype=np.float32)\n",
    "\n",
    "        return obs_batch, act_batch, rew_batch, next_obs_batch, done_mask\n",
    "\n",
    "\n",
    "    def sample(self, batch_size):\n",
    "        assert self.can_sample(batch_size)\n",
    "        idxes = sample_n_unique(lambda: random.randint(0, self.num_in_buffer - 2), batch_size)\n",
    "        return self._encode_sample(idxes)\n",
    "\n",
    "    def encode_recent_observation(self):\n",
    "        assert self.num_in_buffer > 0\n",
    "        return self._encode_observation((self.next_idx - 1) % self.size)\n",
    "\n",
    "    def _encode_observation(self, idx):\n",
    "        end_idx   = idx + 1 # make noninclusive\n",
    "        start_idx = end_idx - self.frame_history_len\n",
    "        if len(self.obs.shape) == 2:\n",
    "            return self.obs[end_idx-1]\n",
    "        if start_idx < 0 and self.num_in_buffer != self.size:\n",
    "            start_idx = 0\n",
    "        for idx in range(start_idx, end_idx - 1):\n",
    "            if self.done[idx % self.size]:\n",
    "                start_idx = idx + 1\n",
    "        missing_context = self.frame_history_len - (end_idx - start_idx)\n",
    "        if start_idx < 0 or missing_context > 0:\n",
    "            frames = [np.zeros_like(self.obs[0]) for _ in range(missing_context)]\n",
    "            for idx in range(start_idx, end_idx):\n",
    "                frames.append(self.obs[idx % self.size])\n",
    "            return np.concatenate(frames, 0)\n",
    "        else:\n",
    "            img_h, img_w = self.obs.shape[2], self.obs.shape[3]\n",
    "            return self.obs[start_idx:end_idx].reshape(-1, img_h, img_w)\n",
    "\n",
    "    def store_frame(self, frame):\n",
    "        if len(frame.shape) > 1:\n",
    "            frame = frame.transpose(2, 0, 1)\n",
    "\n",
    "        if self.obs is None:\n",
    "            self.obs      = np.empty([self.size] + list(frame.shape), dtype=np.uint8)\n",
    "            self.action   = np.empty([self.size], dtype=np.int32)\n",
    "            self.reward   = np.empty([self.size], dtype=np.float32)\n",
    "            self.done     = np.empty([self.size], dtype=np.bool)\n",
    "\n",
    "        self.obs[self.next_idx] = frame\n",
    "\n",
    "        ret = self.next_idx\n",
    "        self.next_idx = (self.next_idx + 1) % self.size\n",
    "        self.num_in_buffer = min(self.size, self.num_in_buffer + 1)\n",
    "\n",
    "        return ret\n",
    "\n",
    "    def store_effect(self, idx, action, reward, done):\n",
    "        self.action[idx] = action\n",
    "        self.reward[idx] = reward\n",
    "        self.done[idx]   = done"
   ]
  },
  {
   "cell_type": "code",
   "execution_count": 10,
   "metadata": {},
   "outputs": [],
   "source": [
    "class DQN:\n",
    "    def __init__(self, input_dim=4, output_dim=18):\n",
    "        super(DQN, self).__init__()\n",
    "        device = torch.device(\"cuda\" if torch.cuda.is_available() else \"cpu\")\n",
    "        self.conv1 = nn.Conv2d(input_dim, 32, kernel_size=8, stride=4)\n",
    "        self.conv2 = nn.Conv2d(32, 64, kernel_size=4, stride=2)\n",
    "        self.conv3 = nn.Conv2d(64, 64, kernel_size=3, stride=1)\n",
    "        self.fc4 = nn.Linear(7 * 7 * 64, 512)\n",
    "        self.fc5 = nn.Linear(512, output_dim)\n",
    "        \n",
    "    def forward(self, x):\n",
    "        x = F.relu(self.conv1(x))\n",
    "        x = F.relu(self.conv2(x))\n",
    "        x = F.relu(self.conv3(x))\n",
    "        x = F.relu(self.fc4(x.view(x.size(0), -1)))\n",
    "        return self.fc5(x)\n",
    "    "
   ]
  },
  {
   "cell_type": "code",
   "execution_count": 14,
   "metadata": {},
   "outputs": [
    {
     "name": "stdout",
     "output_type": "stream",
     "text": [
      "128 6\n"
     ]
    }
   ],
   "source": [
    "env = gym.make('Pong-ram-v0')\n",
    "input_dim = env.observation_space.shape[0]\n",
    "output_dim = env.action_space.n\n",
    "print(input_dim, output_dim)\n",
    "Statistic = {\n",
    "    \"mean_episode_rewards\": [],\n",
    "    \"best_mean_episode_rewards\": []\n",
    "}"
   ]
  },
  {
   "cell_type": "code",
   "execution_count": 21,
   "metadata": {},
   "outputs": [],
   "source": [
    "def select_epilson_greedy_action(model, obs, t):\n",
    "        sample = random.random()\n",
    "        eps_threshold = exploration.value(t)\n",
    "        if sample > eps_threshold:\n",
    "            obs = torch.from_numpy(obs).type(dtype).unsqueeze(0) / 255.0\n",
    "            return model(Variable(obs, volatile=True)).data.max(1)[1].cpu()\n",
    "        else:\n",
    "            return torch.IntTensor([[random.randrange(num_actions)]])"
   ]
  },
  {
   "cell_type": "code",
   "execution_count": 31,
   "metadata": {},
   "outputs": [],
   "source": [
    "def learn(environment, function_approximator, ALPHA = 0.95, EPS = 0.01,LEARNING_RATE = 0.00025, stop=None, seed=None, replay_buffer_size=1000000, batch_size=32, gamma=0.99, learning_starts=50000, learning_freq=4, frame_history_len=4, target_update_freq=10000):\n",
    "    if seed is None:\n",
    "        seed = np.random.randint(100)\n",
    "    torch.manual_seed(seed)\n",
    "    device = torch.device(\"cuda\" if torch.cuda.is_available() else \"cpu\")\n",
    "    if len(env.observation_space.shape) == 1:\n",
    "        input_dim = env.observation_space.shape[0]\n",
    "    else:\n",
    "        img_h, img_w, img_c = environment.observation_space.shape\n",
    "        input_dim = frame_history_len * img_c\n",
    "    output_dim = env.action_space.n\n",
    "    Q = function_approximator(input_dim, output_dim)\n",
    "    target_Q = function_approximator(input_dim, output_dim)\n",
    "    optim.RMSprop(Q, lr=LEARNING_RATE, alpha=ALPHA, eps=EPS)\n",
    "    replay_buffer = ReplayBuffer(replay_buffer_size, frame_history_len)\n",
    "    \n",
    "    num_param_updates = 0\n",
    "    mean_episode_reward = -float('nan')\n",
    "    best_mean_episode_reward = -float('inf')\n",
    "    last_obs = env.reset()\n",
    "    \n",
    "    LOG_EVERY_N_STEPS = 10000\n",
    "    t = 0\n",
    "    while True:\n",
    "        last_idx = replay_buffer.store_frame(last_obs)\n",
    "        recent_observations = replay_buffer.encode_recent_observation()\n",
    "        if t > learning_starts:\n",
    "            action = select_epilson_greedy_action(Q, recent_observations, t)[0, 0]\n",
    "        else:\n",
    "            action = random.randrange(num_actions)\n",
    "            \n",
    "        obs, reward, done, _ = env.step(action)\n",
    "        \n",
    "        reward = max(-1.0, min(reward, 1.0))\n",
    "        replay_buffer.store_effect(last_idx, action, reward, done)\n",
    "        if done:\n",
    "            obs = env.reset()\n",
    "        last_obs = obs\n",
    "        if t > learning_starts and t % learning_freq == 0 and replay_buffer.can_sample(batch_size):\n",
    "            obs_batch, act_batch, rew_batch, next_obs_batch, done_mask = replay_buffer.sample(batch_size)\n",
    "            obs_batch = Variable(torch.from_numpy(obs_batch).type(dtype) / 255.0)\n",
    "            act_batch = Variable(torch.from_numpy(act_batch).long())\n",
    "            rew_batch = Variable(torch.from_numpy(rew_batch))\n",
    "            next_obs_batch = Variable(torch.from_numpy(next_obs_batch).type(dtype) / 255.0)\n",
    "            not_done_mask = Variable(torch.from_numpy(1 - done_mask)).type(dtype)\n",
    "            current_Q_values = Q(obs_batch).gather(1, act_batch.unsqueeze(1))\n",
    "            next_max_q = target_Q(next_obs_batch).detach().max(1)[0]\n",
    "            next_Q_values = not_done_mask * next_max_q\n",
    "            target_Q_values = rew_batch + (gamma * next_Q_values)\n",
    "            bellman_error = target_Q_values - current_Q_values\n",
    "            clipped_bellman_error = bellman_error.clamp(-1, 1)\n",
    "            d_error = clipped_bellman_error * -1.0\n",
    "            optimizer.zero_grad()\n",
    "            current_Q_values.backward(d_error.data.unsqueeze(1))\n",
    "            optimizer.step()\n",
    "            num_param_updates += 1\n",
    "            if num_param_updates % target_update_freq == 0:\n",
    "                target_Q.load_state_dict(Q.state_dict())\n",
    "            episode_rewards = env.env.get_episode_rewards()\n",
    "            if len(episode_rewards) > 0:\n",
    "                mean_episode_reward = np.mean(episode_rewards[-100:])\n",
    "            if len(episode_rewards) > 100:\n",
    "                best_mean_episode_reward = max(best_mean_episode_reward, mean_episode_reward)\n",
    "            Statistic[\"mean_episode_rewards\"].append(mean_episode_reward)\n",
    "            Statistic[\"best_mean_episode_rewards\"].append(best_mean_episode_reward)\n",
    "\n",
    "            if t % LOG_EVERY_N_STEPS == 0 and t > learning_starts:\n",
    "                print(\"Timestep %d\" % (t,))\n",
    "                print(\"mean reward (100 episodes) %f\" % mean_episode_reward)\n",
    "                print(\"best mean reward %f\" % best_mean_episode_reward)\n",
    "                print(\"episodes %d\" % len(episode_rewards))\n",
    "                print(\"exploration %f\" % exploration.value(t))\n",
    "\n",
    "        t+=1\n",
    "        "
   ]
  },
  {
   "cell_type": "code",
   "execution_count": 32,
   "metadata": {},
   "outputs": [
    {
     "ename": "AttributeError",
     "evalue": "'DQN' object has no attribute 'to'",
     "output_type": "error",
     "traceback": [
      "\u001b[1;31m---------------------------------------------------------------------------\u001b[0m",
      "\u001b[1;31mAttributeError\u001b[0m                            Traceback (most recent call last)",
      "\u001b[1;32m<ipython-input-32-9501ec97cb96>\u001b[0m in \u001b[0;36m<module>\u001b[1;34m()\u001b[0m\n\u001b[1;32m----> 1\u001b[1;33m \u001b[0mlearn\u001b[0m\u001b[1;33m(\u001b[0m\u001b[0menv\u001b[0m\u001b[1;33m,\u001b[0m \u001b[0mDQN\u001b[0m\u001b[1;33m)\u001b[0m\u001b[1;33m\u001b[0m\u001b[0m\n\u001b[0m",
      "\u001b[1;32m<ipython-input-31-031fe6592d1f>\u001b[0m in \u001b[0;36mlearn\u001b[1;34m(environment, function_approximator, ALPHA, EPS, LEARNING_RATE, stop, seed, replay_buffer_size, batch_size, gamma, learning_starts, learning_freq, frame_history_len, target_update_freq)\u001b[0m\n\u001b[0;32m     10\u001b[0m         \u001b[0minput_dim\u001b[0m \u001b[1;33m=\u001b[0m \u001b[0mframe_history_len\u001b[0m \u001b[1;33m*\u001b[0m \u001b[0mimg_c\u001b[0m\u001b[1;33m\u001b[0m\u001b[0m\n\u001b[0;32m     11\u001b[0m     \u001b[0moutput_dim\u001b[0m \u001b[1;33m=\u001b[0m \u001b[0menv\u001b[0m\u001b[1;33m.\u001b[0m\u001b[0maction_space\u001b[0m\u001b[1;33m.\u001b[0m\u001b[0mn\u001b[0m\u001b[1;33m\u001b[0m\u001b[0m\n\u001b[1;32m---> 12\u001b[1;33m     \u001b[0mQ\u001b[0m \u001b[1;33m=\u001b[0m \u001b[0mfunction_approximator\u001b[0m\u001b[1;33m(\u001b[0m\u001b[0minput_dim\u001b[0m\u001b[1;33m,\u001b[0m \u001b[0moutput_dim\u001b[0m\u001b[1;33m)\u001b[0m\u001b[1;33m.\u001b[0m\u001b[0mto\u001b[0m\u001b[1;33m(\u001b[0m\u001b[0mdevice\u001b[0m\u001b[1;33m)\u001b[0m\u001b[1;33m\u001b[0m\u001b[0m\n\u001b[0m\u001b[0;32m     13\u001b[0m     \u001b[0mtarget_Q\u001b[0m \u001b[1;33m=\u001b[0m \u001b[0mfunction_approximator\u001b[0m\u001b[1;33m(\u001b[0m\u001b[0minput_dim\u001b[0m\u001b[1;33m,\u001b[0m \u001b[0moutput_dim\u001b[0m\u001b[1;33m)\u001b[0m\u001b[1;33m.\u001b[0m\u001b[0mto\u001b[0m\u001b[1;33m(\u001b[0m\u001b[0mdevice\u001b[0m\u001b[1;33m)\u001b[0m\u001b[1;33m\u001b[0m\u001b[0m\n\u001b[0;32m     14\u001b[0m     \u001b[0moptim\u001b[0m\u001b[1;33m.\u001b[0m\u001b[0mRMSprop\u001b[0m\u001b[1;33m(\u001b[0m\u001b[0mQ\u001b[0m\u001b[1;33m,\u001b[0m \u001b[0mlr\u001b[0m\u001b[1;33m=\u001b[0m\u001b[0mLEARNING_RATE\u001b[0m\u001b[1;33m,\u001b[0m \u001b[0malpha\u001b[0m\u001b[1;33m=\u001b[0m\u001b[0mALPHA\u001b[0m\u001b[1;33m,\u001b[0m \u001b[0meps\u001b[0m\u001b[1;33m=\u001b[0m\u001b[0mEPS\u001b[0m\u001b[1;33m)\u001b[0m\u001b[1;33m\u001b[0m\u001b[0m\n",
      "\u001b[1;31mAttributeError\u001b[0m: 'DQN' object has no attribute 'to'"
     ]
    }
   ],
   "source": [
    "learn(env, DQN)"
   ]
  },
  {
   "cell_type": "code",
   "execution_count": null,
   "metadata": {},
   "outputs": [],
   "source": []
  }
 ],
 "metadata": {
  "kernelspec": {
   "display_name": "Python 3",
   "language": "python",
   "name": "python3"
  },
  "language_info": {
   "codemirror_mode": {
    "name": "ipython",
    "version": 3
   },
   "file_extension": ".py",
   "mimetype": "text/x-python",
   "name": "python",
   "nbconvert_exporter": "python",
   "pygments_lexer": "ipython3",
   "version": "3.6.3"
  }
 },
 "nbformat": 4,
 "nbformat_minor": 2
}
