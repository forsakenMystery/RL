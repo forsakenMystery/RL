{
 "cells": [
  {
   "cell_type": "code",
   "execution_count": 1,
   "metadata": {},
   "outputs": [],
   "source": [
    "import torch\n",
    "import numpy as np\n",
    "import gym\n",
    "import matplotlib.pyplot as plt\n",
    "import copy\n",
    "import torch.nn as nn\n",
    "import torch.optim as optim\n",
    "import torch.nn.functional as F\n",
    "import torchvision.transforms as T\n"
   ]
  },
  {
   "cell_type": "code",
   "execution_count": 2,
   "metadata": {},
   "outputs": [
    {
     "name": "stdout",
     "output_type": "stream",
     "text": [
      "0\n",
      "1\n",
      "2\n",
      "3\n",
      "4\n",
      "5\n",
      "6\n",
      "7\n",
      "8\n",
      "9\n"
     ]
    },
    {
     "data": {
      "image/png": "[encoded data removed]",
      "text/plain": [
       "<Figure size 432x288 with 1 Axes>"
      ]
     },
     "metadata": {},
     "output_type": "display_data"
    },
    {
     "name": "stdout",
     "output_type": "stream",
     "text": [
      "-20.3\n"
     ]
    }
   ],
   "source": [
    "%matplotlib inline\n",
    "env = gym.make('Pong-ram-v0')\n",
    "episodes = 10\n",
    "remember = []\n",
    "episode_numbers = []\n",
    "for i in range(episodes):\n",
    "    print(i)\n",
    "    episode_numbers.append(i)\n",
    "    observed = env.reset()\n",
    "    done = False\n",
    "    Return = 0\n",
    "    while(done!=True):\n",
    "#         env.render()\n",
    "        action = np.random.randint(env.action_space.n)\n",
    "        observed, reward, done, info = env.step(action)\n",
    "        Return += reward\n",
    "    remember.append(Return)\n",
    "plt.plot(episode_numbers, remember)\n",
    "plt.show()\n",
    "print(np.mean(np.array(remember)))"
   ]
  },
  {
   "cell_type": "code",
   "execution_count": 3,
   "metadata": {},
   "outputs": [],
   "source": [
    "class Trejectory:\n",
    "    def __init__(self, state, action, next_state, reward):\n",
    "        self.state = state\n",
    "        self. action = action\n",
    "        self.next_state = next_state\n",
    "        self.reward = reward"
   ]
  },
  {
   "cell_type": "code",
   "execution_count": 4,
   "metadata": {},
   "outputs": [],
   "source": [
    "class ReplayBuffer:\n",
    "    def __init__(self, size):\n",
    "        self.size = size\n",
    "        self.memory = []\n",
    "        self.front = -1\n",
    "    \n",
    "    def push(self, *args):\n",
    "        if self.__len__()<self.size:\n",
    "            self.memory.append(Trejectory(*args))\n",
    "        self.front = (self.front+1)%self.size\n",
    "    \n",
    "    def __len__(self):\n",
    "        return len(self.memory)\n",
    "    \n",
    "    def uniform_sample(self, batch):\n",
    "        return np.random.choice(self.memory, batch, replace=False)\n",
    "    "
   ]
  },
  {
   "cell_type": "code",
   "execution_count": 5,
   "metadata": {},
   "outputs": [],
   "source": [
    "class DQN:\n",
    "    def __init__(self, in_channels=4, num_actions=18, lr=1e-4, update=1000, replay_size=5000, seed=None):\n",
    "        super(DQN, self).__init__()\n",
    "        if seed is None:\n",
    "            seed = np.random.randint(100)\n",
    "        torch.manual_seed(seed)\n",
    "        device = torch.device(\"cuda\" if torch.cuda.is_available() else \"cpu\")\n",
    "        self.conv1 = nn.Conv2d(in_channels, 32, kernel_size=8, stride=4)\n",
    "        self.conv2 = nn.Conv2d(32, 64, kernel_size=4, stride=2)\n",
    "        self.conv3 = nn.Conv2d(64, 64, kernel_size=3, stride=1)\n",
    "        self.fc4 = nn.Linear(7 * 7 * 64, 512)\n",
    "        self.fc5 = nn.Linear(512, num_actions)\n",
    "        \n",
    "    def forward(self, x):\n",
    "        x = F.relu(self.conv1(x))\n",
    "        x = F.relu(self.conv2(x))\n",
    "        x = F.relu(self.conv3(x))\n",
    "        x = F.relu(self.fc4(x.view(x.size(0), -1)))\n",
    "        return self.fc5(x)\n",
    "    "
   ]
  },
  {
   "cell_type": "code",
   "execution_count": 6,
   "metadata": {},
   "outputs": [
    {
     "name": "stdout",
     "output_type": "stream",
     "text": [
      "128 6\n"
     ]
    }
   ],
   "source": [
    "env = gym.make('Pong-ram-v0')\n",
    "input_dim = env.observation_space.shape[0]\n",
    "output_dim = env.action_space.n\n",
    "print(input_dim, output_dim)"
   ]
  },
  {
   "cell_type": "code",
   "execution_count": null,
   "metadata": {},
   "outputs": [],
   "source": []
  }
 ],
 "metadata": {
  "kernelspec": {
   "display_name": "Python 3",
   "language": "python",
   "name": "python3"
  },
  "language_info": {
   "codemirror_mode": {
    "name": "ipython",
    "version": 3
   },
   "file_extension": ".py",
   "mimetype": "text/x-python",
   "name": "python",
   "nbconvert_exporter": "python",
   "pygments_lexer": "ipython3",
   "version": "3.6.3"
  }
 },
 "nbformat": 4,
 "nbformat_minor": 2
}
